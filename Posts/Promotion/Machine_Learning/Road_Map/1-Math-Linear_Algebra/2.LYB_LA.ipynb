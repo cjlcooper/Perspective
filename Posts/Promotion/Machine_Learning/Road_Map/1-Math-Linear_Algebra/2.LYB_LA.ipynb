{
 "cells": [
  {
   "cell_type": "markdown",
   "metadata": {},
   "source": [
    "# Machine Learning -  Linear Algebra\n",
    "\n",
    "## LYB - LA\n",
    "\n",
    "> All rights reserved by [github.com/kingcos/Perspective](https://github.com/kingcos/Perspective)"
   ]
  },
  {
   "cell_type": "markdown",
   "metadata": {},
   "source": [
    "## 向量\n",
    "\n",
    "- 标量：与向量相对应，一个数字，称为标量（Scalar）\n",
    "- 向量一般默认指列向量，为了便于表示，书本上常用行向量的转置表示（eg. $(2, 5)^T$）\n",
    "- 对于任意一个向量 $\\vec{u}$，都存在一个向量 $O$，满足 $\\vec{u}+O=\\vec{u}$，即称这个向量为零向量。\n",
    "- 零向量没有方向，所以 $O$ 没有箭头。\n",
    "- 在不同的空间，零向量的维度不同，在一个确定的空间中，只有一个零向量，但零向量不唯一（不同维度）。\n",
    "- 对于任意一个向量 $\\vec{u}$，都存在一个向量 $\\vec{-u}$，满足 $\\vec{u}+\\vec{-u}=O$，且上述 $\\vec{-u}$ 唯一，证明如下：\n",
    "\n",
    "$$a$$\n",
    "\n",
    "- $\\vec{-u}=-1*\\vec{u}$。\n",
    "- 数学上有两种常用的证明方法：反证法 & 数学归纳法。\n",
    "\n",
    "```swift\n",
    "// Vector Implementation\n",
    "class Vector {\n",
    "\n",
    "}\n",
    "```"
   ]
  },
  {
   "cell_type": "markdown",
   "metadata": {},
   "source": []
  }
 ],
 "metadata": {
  "kernelspec": {
   "display_name": "Python 3",
   "language": "python",
   "name": "python3"
  },
  "language_info": {
   "codemirror_mode": {
    "name": "ipython",
    "version": 3
   },
   "file_extension": ".py",
   "mimetype": "text/x-python",
   "name": "python",
   "nbconvert_exporter": "python",
   "pygments_lexer": "ipython3",
   "version": "3.7.1"
  }
 },
 "nbformat": 4,
 "nbformat_minor": 2
}
